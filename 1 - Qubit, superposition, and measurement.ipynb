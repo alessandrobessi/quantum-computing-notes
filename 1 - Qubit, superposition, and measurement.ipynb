{
 "cells": [
  {
   "cell_type": "code",
   "execution_count": 1,
   "metadata": {},
   "outputs": [],
   "source": [
    "import math\n",
    "import cmath\n",
    "import numpy as np\n",
    "from quantum import quantum"
   ]
  },
  {
   "cell_type": "markdown",
   "metadata": {},
   "source": [
    "# Qubit, superposition, and measurement\n",
    "\n",
    "The state of a quantum register (collection of qubits) can be described as a vector |ψ⟩ in Hilbert space that contains all the information that can be known about the system.\n",
    "\n",
    "Classically, the most simple system that can hold information is the bit. In quantum mechanics, the most simple system that can hold information is the qubit.\n",
    "\n",
    "The qubit can be described as a vector in Hilbert space, and the simplest vector we can have is a vector with two dimensions. Following the conventions of classical computing, we call these dimensions |0⟩ and |1⟩. This vector behaviour allows for our qubit to occupy the space spanned by |0⟩ & |1⟩, and we call this property superposition.\n",
    "\n",
    "To measure a quantum register, we apply an Hermitian operator A. Upon measurement, the register will collapse into one of A's eigenvectors, with probability proportional to |a|^2, where 'a' is the amplitude of that eigenvector."
   ]
  },
  {
   "cell_type": "code",
   "execution_count": 2,
   "metadata": {},
   "outputs": [
    {
     "name": "stdout",
     "output_type": "stream",
     "text": [
      "Z gate\n",
      "shape: (2, 2)\n",
      "[[ 1.+0.j  0.+0.j]\n",
      " [ 0.+0.j -1.+0.j]]\n"
     ]
    },
    {
     "data": {
      "text/plain": [
       "True"
      ]
     },
     "execution_count": 2,
     "metadata": {},
     "output_type": "execute_result"
    }
   ],
   "source": [
    "# the Z gate is an Hermitian operator\n",
    "quantum.info(quantum.Z, \"Z gate\")\n",
    "quantum.is_hermitian(quantum.Z)"
   ]
  },
  {
   "cell_type": "code",
   "execution_count": 3,
   "metadata": {},
   "outputs": [
    {
     "name": "stdout",
     "output_type": "stream",
     "text": [
      "[1.+0.j 0.+0.j]\n",
      "[0.+0.j 1.+0.j]\n"
     ]
    }
   ],
   "source": [
    "# the Z gate has the following eigenvecto_rs\n",
    "_, eigenvectors = np.linalg.eig(quantum.Z)\n",
    "print(eigenvectors[0,:]) # |0⟩ \n",
    "print(eigenvectors[1,:]) # |1⟩ "
   ]
  },
  {
   "cell_type": "markdown",
   "metadata": {},
   "source": [
    "Then our qubit |q⟩ = a|0⟩ + b|1⟩ would collapse to |0⟩ with probability |a|^2 and |1⟩ with probability |b|^2.\n",
    "\n",
    "Since the probability of obtaining a measurement is 1, the magnitude of our qubit vector must always be normalised to 1.\n",
    "\n",
    "Upon measurement, we destroy the superposition of our qubit and lose the information stored in its amplitudes. This is one of the unfortunate limitations of quantum computing: that despite all the information held in these qubit states we can only get a yes-or-no answer."
   ]
  },
  {
   "cell_type": "markdown",
   "metadata": {},
   "source": [
    "### Example\n",
    "**Question** What's the probability that the following qubit  \n",
    "$$|q⟩ = \\frac{1}{\\sqrt{2}} |0⟩ + \\frac{1}{\\sqrt{2}} |1⟩$$\n",
    "will collapse to |1⟩?\n",
    "\n",
    "**Answer** \n",
    "$$ Pr(|1⟩) = ⟨1|q⟩ = (\\frac{1}{\\sqrt{2}})^{2} = \\frac{1}{2}$$"
   ]
  },
  {
   "cell_type": "markdown",
   "metadata": {},
   "source": [
    "## Bloch Sphere\n",
    "Since we square the magnitude of our amplitudes to find the probability of measurement, certain qubit states are equivalent to us. We can ignore global phase (phase applied to the whole qubit).\n",
    "\n",
    "We have narrowed down the possible states of our qubits; their squared amplitudes must equal 1 and we only care about the difference in phase between our two amplitudes (a & b). As a result, we can write the state of any qubit in the form:\n",
    "\n",
    "$$ |q⟩ = \\cos{\\frac{\\theta}{2}}|0⟩ + \\exp^{i\\phi}\\sin{\\frac{\\theta}{2}}|1⟩ $$\n",
    "\n",
    "Using the two variables $\\theta$ and $\\phi$, we can represent each possible qubit state as a point on the surface of a sphere (the Bloch sphere)."
   ]
  },
  {
   "cell_type": "markdown",
   "metadata": {},
   "source": [
    "### Example\n",
    "The following qubit $$ |q⟩ =  \\frac{1}{\\sqrt{2}} |0⟩ + i\\frac{1}{\\sqrt{2}} |1⟩ $$\n",
    "\n",
    "will have the following coordinates on the Bloch sphere: $r = 1$, $\\theta = \\frac{\\pi}{2}$, $\\phi = \\frac{\\pi}{2}$.\n",
    "\n",
    "More generally, since \n",
    "$$ |q⟩ = a|0⟩ + b|1⟩ = \\cos{\\frac{\\theta}{2}}|0⟩ + \\exp^{i\\phi}\\sin{\\frac{\\theta}{2}}|1⟩ $$\n",
    "\n",
    "we can say that $$\\theta = 2 \\arccos{a}$$ and that $$\\phi = \\frac{1}{i}\\log{\\frac{b}{\\sin{\\frac{\\theta}{2}}}}$$"
   ]
  },
  {
   "cell_type": "code",
   "execution_count": 4,
   "metadata": {},
   "outputs": [
    {
     "name": "stdout",
     "output_type": "stream",
     "text": [
      "1.5708\n",
      "(1.5708+0j)\n"
     ]
    }
   ],
   "source": [
    "a = 1 / math.sqrt(2)\n",
    "b = complex(0, 1) / math.sqrt(2)\n",
    "\n",
    "theta = 2 * math.acos(a)\n",
    "phi = 1 / complex(0,1) * cmath.log(b / cmath.sin(theta / 2))\n",
    "\n",
    "print(np.round(theta, 4)) # ~ pi/2\n",
    "print(np.round(phi, 4)) # ~ pi/2"
   ]
  },
  {
   "cell_type": "code",
   "execution_count": null,
   "metadata": {},
   "outputs": [],
   "source": []
  },
  {
   "cell_type": "code",
   "execution_count": null,
   "metadata": {},
   "outputs": [],
   "source": []
  }
 ],
 "metadata": {
  "kernelspec": {
   "display_name": "Python 3",
   "language": "python",
   "name": "python3"
  },
  "language_info": {
   "codemirror_mode": {
    "name": "ipython",
    "version": 3
   },
   "file_extension": ".py",
   "mimetype": "text/x-python",
   "name": "python",
   "nbconvert_exporter": "python",
   "pygments_lexer": "ipython3",
   "version": "3.8.2"
  }
 },
 "nbformat": 4,
 "nbformat_minor": 4
}
