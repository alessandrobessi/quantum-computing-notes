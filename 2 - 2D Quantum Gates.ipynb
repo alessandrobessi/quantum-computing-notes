{
 "cells": [
  {
   "cell_type": "code",
   "execution_count": 1,
   "metadata": {},
   "outputs": [],
   "source": [
    "import numpy as np\n",
    "from quantum import quantum"
   ]
  },
  {
   "cell_type": "markdown",
   "metadata": {},
   "source": [
    "# Quantum Gates\n",
    "Quantum gates are fundamental operations that act as building blocks for quantum algorithms. It can be shown that a small set of quantum gates is enough to carry out any quantum computation, we call these sets universal quantum gates. Understanding the operation of individual quantum gates is useful for demonstrating quantum phenomena and in turn understanding larger quantum algorithms.\n"
   ]
  },
  {
   "cell_type": "markdown",
   "metadata": {},
   "source": [
    "## Pauli Gates\n",
    "Single qubit quantum gates can be represented by a 2×2 matrix that acts on our 2D qubit vector."
   ]
  },
  {
   "cell_type": "markdown",
   "metadata": {},
   "source": [
    "The X-gate switches the amplitudes of |1⟩ and |0⟩ in our qubit, for this reason it is often known as a 'bit flip'. It is also analogous to the classical 'NOT' gate and similarly inherits this name as well."
   ]
  },
  {
   "cell_type": "code",
   "execution_count": 2,
   "metadata": {},
   "outputs": [
    {
     "name": "stdout",
     "output_type": "stream",
     "text": [
      "X|0⟩ = |1⟩\n",
      "shape: (2, 1)\n",
      "[[0.+0.j]\n",
      " [1.+0.j]]\n"
     ]
    }
   ],
   "source": [
    "quantum.info(np.dot(quantum.X, quantum.Zero), \"X|0⟩ = |1⟩\")"
   ]
  },
  {
   "cell_type": "code",
   "execution_count": 3,
   "metadata": {},
   "outputs": [
    {
     "name": "stdout",
     "output_type": "stream",
     "text": [
      "X|1⟩ = |0⟩\n",
      "shape: (2, 1)\n",
      "[[1.+0.j]\n",
      " [0.+0.j]]\n"
     ]
    }
   ],
   "source": [
    "quantum.info(np.dot(quantum.X, quantum.One), \"X|1⟩ = |0⟩\")"
   ]
  },
  {
   "cell_type": "markdown",
   "metadata": {},
   "source": [
    "It is clear how to the X-gate operates on classical classical states, but what about on superpositions?"
   ]
  },
  {
   "cell_type": "code",
   "execution_count": 4,
   "metadata": {},
   "outputs": [
    {
     "name": "stdout",
     "output_type": "stream",
     "text": [
      "X|+⟩ = |+⟩\n",
      "shape: (2, 1)\n",
      "[[0.707+0.j]\n",
      " [0.707+0.j]]\n"
     ]
    }
   ],
   "source": [
    "quantum.info(np.dot(quantum.X, quantum.Plus), \"X|+⟩ = |+⟩\")"
   ]
  },
  {
   "cell_type": "code",
   "execution_count": 5,
   "metadata": {},
   "outputs": [
    {
     "name": "stdout",
     "output_type": "stream",
     "text": [
      "X|-⟩ = -|+⟩\n",
      "shape: (2, 1)\n",
      "[[-0.707+0.j]\n",
      " [ 0.707+0.j]]\n"
     ]
    }
   ],
   "source": [
    "quantum.info(np.dot(quantum.X, quantum.Minus), \"X|-⟩ = -|+⟩\")"
   ]
  },
  {
   "cell_type": "markdown",
   "metadata": {},
   "source": [
    "We can see that the X-gate has no effect on the state |+⟩, and introduces a negative phase to |-⟩, this is because these states are both eigenvectors of X."
   ]
  },
  {
   "cell_type": "code",
   "execution_count": 6,
   "metadata": {},
   "outputs": [
    {
     "name": "stdout",
     "output_type": "stream",
     "text": [
      "[[ 0.70710678-0.j  0.70710678+0.j]\n",
      " [ 0.70710678+0.j -0.70710678-0.j]]\n"
     ]
    }
   ],
   "source": [
    "eigenvalues, eigenvectors = np.linalg.eig(quantum.X)\n",
    "print(eigenvectors)"
   ]
  },
  {
   "cell_type": "markdown",
   "metadata": {},
   "source": [
    "The X-gate corresponds to a rotation of π around the X-axis of the Bloch sphere. Similarly the Y and Z-gates perform rotations of π around their respective axes."
   ]
  },
  {
   "cell_type": "code",
   "execution_count": 7,
   "metadata": {},
   "outputs": [
    {
     "name": "stdout",
     "output_type": "stream",
     "text": [
      "Y|0⟩\n",
      "shape: (2, 1)\n",
      "[[0.+0.j]\n",
      " [0.+1.j]]\n"
     ]
    }
   ],
   "source": [
    "quantum.info(np.dot(quantum.Y, quantum.Zero), \"Y|0⟩\")"
   ]
  },
  {
   "cell_type": "code",
   "execution_count": 8,
   "metadata": {},
   "outputs": [
    {
     "name": "stdout",
     "output_type": "stream",
     "text": [
      "Y|1⟩\n",
      "shape: (2, 1)\n",
      "[[0.-1.j]\n",
      " [0.+0.j]]\n"
     ]
    }
   ],
   "source": [
    "quantum.info(np.dot(quantum.Y, quantum.One), \"Y|1⟩\")"
   ]
  },
  {
   "cell_type": "code",
   "execution_count": 9,
   "metadata": {},
   "outputs": [
    {
     "name": "stdout",
     "output_type": "stream",
     "text": [
      "Z|0⟩\n",
      "shape: (2, 1)\n",
      "[[1.+0.j]\n",
      " [0.+0.j]]\n"
     ]
    }
   ],
   "source": [
    "quantum.info(np.dot(quantum.Z, quantum.Zero), \"Z|0⟩\")"
   ]
  },
  {
   "cell_type": "code",
   "execution_count": 10,
   "metadata": {},
   "outputs": [
    {
     "name": "stdout",
     "output_type": "stream",
     "text": [
      "Z|1⟩\n",
      "shape: (2, 1)\n",
      "[[ 0.+0.j]\n",
      " [-1.+0.j]]\n"
     ]
    }
   ],
   "source": [
    "quantum.info(np.dot(quantum.Z, quantum.One), \"Z|1⟩\")"
   ]
  },
  {
   "cell_type": "markdown",
   "metadata": {},
   "source": [
    "## Hadamard Gate\n",
    "The Hadamard gate creates superposition from a |0⟩ or |1⟩ state. As with the previous gates we've learnt about, the H-gate is its own inverse."
   ]
  },
  {
   "cell_type": "code",
   "execution_count": 11,
   "metadata": {},
   "outputs": [
    {
     "data": {
      "text/plain": [
       "True"
      ]
     },
     "execution_count": 11,
     "metadata": {},
     "output_type": "execute_result"
    }
   ],
   "source": [
    "np.allclose(np.linalg.inv(quantum.H), quantum.H)"
   ]
  },
  {
   "cell_type": "code",
   "execution_count": 12,
   "metadata": {},
   "outputs": [
    {
     "name": "stdout",
     "output_type": "stream",
     "text": [
      "H|1⟩ = |-⟩\n",
      "shape: (2, 1)\n",
      "[[ 0.707+0.j]\n",
      " [-0.707+0.j]]\n"
     ]
    },
    {
     "data": {
      "text/plain": [
       "True"
      ]
     },
     "execution_count": 12,
     "metadata": {},
     "output_type": "execute_result"
    }
   ],
   "source": [
    "quantum.info(np.dot(quantum.H, quantum.One), \"H|1⟩ = |-⟩\")\n",
    "np.allclose(np.dot(quantum.H, quantum.One), quantum.Minus)"
   ]
  },
  {
   "cell_type": "code",
   "execution_count": 13,
   "metadata": {},
   "outputs": [
    {
     "name": "stdout",
     "output_type": "stream",
     "text": [
      "H|0⟩ = |+⟩\n",
      "shape: (2, 1)\n",
      "[[0.707+0.j]\n",
      " [0.707+0.j]]\n"
     ]
    },
    {
     "data": {
      "text/plain": [
       "True"
      ]
     },
     "execution_count": 13,
     "metadata": {},
     "output_type": "execute_result"
    }
   ],
   "source": [
    "quantum.info(np.dot(quantum.H, quantum.Zero), \"H|0⟩ = |+⟩\")\n",
    "np.allclose(np.dot(quantum.H, quantum.Zero), quantum.Plus)"
   ]
  },
  {
   "cell_type": "code",
   "execution_count": 14,
   "metadata": {},
   "outputs": [
    {
     "name": "stdout",
     "output_type": "stream",
     "text": [
      "H|+⟩ = |0⟩\n",
      "shape: (2, 1)\n",
      "[[1.+0.j]\n",
      " [0.+0.j]]\n"
     ]
    },
    {
     "data": {
      "text/plain": [
       "True"
      ]
     },
     "execution_count": 14,
     "metadata": {},
     "output_type": "execute_result"
    }
   ],
   "source": [
    "quantum.info(np.dot(quantum.H, quantum.Plus), \"H|+⟩ = |0⟩\")\n",
    "np.allclose(np.dot(quantum.H, quantum.Plus), quantum.Zero)"
   ]
  },
  {
   "cell_type": "code",
   "execution_count": 15,
   "metadata": {},
   "outputs": [
    {
     "name": "stdout",
     "output_type": "stream",
     "text": [
      "H|-⟩ = |1⟩\n",
      "shape: (2, 1)\n",
      "[[0.+0.j]\n",
      " [1.+0.j]]\n"
     ]
    },
    {
     "data": {
      "text/plain": [
       "True"
      ]
     },
     "execution_count": 15,
     "metadata": {},
     "output_type": "execute_result"
    }
   ],
   "source": [
    "quantum.info(np.dot(quantum.H, quantum.Minus), \"H|-⟩ = |1⟩\")\n",
    "np.allclose(np.dot(quantum.H, quantum.Minus), quantum.One)"
   ]
  },
  {
   "cell_type": "code",
   "execution_count": 16,
   "metadata": {},
   "outputs": [
    {
     "name": "stdout",
     "output_type": "stream",
     "text": [
      "R(pi) = Z\n",
      "shape: (2, 2)\n",
      "[[ 1.+0.j  0.+0.j]\n",
      " [ 0.+0.j -1.+0.j]]\n"
     ]
    },
    {
     "data": {
      "text/plain": [
       "True"
      ]
     },
     "execution_count": 16,
     "metadata": {},
     "output_type": "execute_result"
    }
   ],
   "source": [
    "quantum.info(quantum.R(np.pi), \"R(pi) = Z\")\n",
    "np.allclose(quantum.R(np.pi), quantum.Z)"
   ]
  },
  {
   "cell_type": "markdown",
   "metadata": {},
   "source": [
    "We call the phase shift by ϕ = π/4 the T-gate"
   ]
  },
  {
   "cell_type": "code",
   "execution_count": 17,
   "metadata": {},
   "outputs": [
    {
     "name": "stdout",
     "output_type": "stream",
     "text": [
      "R(pi/4) = T\n",
      "shape: (2, 2)\n",
      "[[1.   +0.j    0.   +0.j   ]\n",
      " [0.   +0.j    0.707+0.707j]]\n"
     ]
    }
   ],
   "source": [
    "quantum.info(quantum.R(np.pi / 4), \"R(pi/4) = T\")\n"
   ]
  },
  {
   "cell_type": "markdown",
   "metadata": {},
   "source": [
    "and we see that four successive T-gates have the same effect as one Z-gate"
   ]
  },
  {
   "cell_type": "code",
   "execution_count": 18,
   "metadata": {},
   "outputs": [
    {
     "name": "stdout",
     "output_type": "stream",
     "text": [
      "TTTT = Z\n",
      "shape: (2, 2)\n",
      "[[ 1.+0.j  0.+0.j]\n",
      " [ 0.+0.j -1.+0.j]]\n"
     ]
    },
    {
     "data": {
      "text/plain": [
       "True"
      ]
     },
     "execution_count": 18,
     "metadata": {},
     "output_type": "execute_result"
    }
   ],
   "source": [
    "twoT = np.dot(quantum.R(np.pi / 4), quantum.R(np.pi / 4))\n",
    "threeT = np.dot(twoT, quantum.R(np.pi / 4))\n",
    "fourT = np.dot(threeT, quantum.R(np.pi / 4))\n",
    "quantum.info(fourT, \"TTTT = Z\")\n",
    "np.allclose(fourT, quantum.Z)"
   ]
  },
  {
   "cell_type": "code",
   "execution_count": null,
   "metadata": {},
   "outputs": [],
   "source": []
  }
 ],
 "metadata": {
  "kernelspec": {
   "display_name": "Python 3",
   "language": "python",
   "name": "python3"
  },
  "language_info": {
   "codemirror_mode": {
    "name": "ipython",
    "version": 3
   },
   "file_extension": ".py",
   "mimetype": "text/x-python",
   "name": "python",
   "nbconvert_exporter": "python",
   "pygments_lexer": "ipython3",
   "version": "3.8.2"
  }
 },
 "nbformat": 4,
 "nbformat_minor": 4
}
