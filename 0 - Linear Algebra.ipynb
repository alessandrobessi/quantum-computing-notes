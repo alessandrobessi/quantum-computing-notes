{
 "cells": [
  {
   "cell_type": "code",
   "execution_count": 1,
   "metadata": {},
   "outputs": [],
   "source": [
    "import numpy as np\n",
    "from quantum import quantum"
   ]
  },
  {
   "cell_type": "markdown",
   "metadata": {},
   "source": [
    "# Dirac notation and basic linear algebra"
   ]
  },
  {
   "cell_type": "markdown",
   "metadata": {},
   "source": [
    "## Bras and Kets\n",
    "In matrix algebra, we have row and column vectors, in Dirac notation we write these vectors as `⟨bras|` and `|kets⟩`, respectively. When bras, kets or matrices are next to each other, matrix multiplication is implied."
   ]
  },
  {
   "cell_type": "code",
   "execution_count": 2,
   "metadata": {},
   "outputs": [
    {
     "name": "stdout",
     "output_type": "stream",
     "text": [
      "shape: (2, 1)\n",
      "[[0.+0.j]\n",
      " [1.+0.j]]\n"
     ]
    }
   ],
   "source": [
    "# |1⟩\n",
    "ket = np.array([[0,1]], dtype=np.complex_).transpose()\n",
    "quantum.info(ket)"
   ]
  },
  {
   "cell_type": "code",
   "execution_count": 3,
   "metadata": {},
   "outputs": [
    {
     "name": "stdout",
     "output_type": "stream",
     "text": [
      "shape: (1, 2)\n",
      "[[0.+0.j 1.+0.j]]\n"
     ]
    }
   ],
   "source": [
    "# ⟨1|\n",
    "bra = np.array([[0,1]], dtype=np.complex_)\n",
    "quantum.info(bra)"
   ]
  },
  {
   "cell_type": "markdown",
   "metadata": {},
   "source": [
    "## The Inner Product\n",
    "If we multiply a bra and a ket using matrix multiplication, we get a complex number."
   ]
  },
  {
   "cell_type": "code",
   "execution_count": 4,
   "metadata": {},
   "outputs": [
    {
     "name": "stdout",
     "output_type": "stream",
     "text": [
      "shape: (1, 1)\n",
      "[[1.+0.j]]\n"
     ]
    }
   ],
   "source": [
    "# ⟨1|1⟩\n",
    "quantum.info(np.dot(bra, ket))"
   ]
  },
  {
   "cell_type": "markdown",
   "metadata": {},
   "source": [
    "## The Kronocker Product\n",
    "The Kronecker product is notated by a circle with a cross in it (⊗). Often the kronecker product is implied when writing two kets next to eachother, i.e.   |ab⟩ = |a⟩⊗|b⟩."
   ]
  },
  {
   "cell_type": "code",
   "execution_count": 5,
   "metadata": {},
   "outputs": [
    {
     "name": "stdout",
     "output_type": "stream",
     "text": [
      "shape: (4, 1)\n",
      "[[0.+0.j]\n",
      " [0.+0.j]\n",
      " [1.+0.j]\n",
      " [0.+0.j]]\n"
     ]
    }
   ],
   "source": [
    "a = np.array([[0,1]], dtype=np.complex_).transpose()\n",
    "b = np.array([[1,0]], dtype=np.complex_).transpose()\n",
    "\n",
    "quantum.info(np.kron(a, b))"
   ]
  },
  {
   "cell_type": "markdown",
   "metadata": {},
   "source": [
    "In quantum computing we describe our computer's state through vectors, using the Kronecker product very quickly creates large matrices with many elements and this exponential increase in elements is where the difficulty in simulating a quantum computer comes from."
   ]
  },
  {
   "cell_type": "markdown",
   "metadata": {},
   "source": [
    "## Orthonormal bases\n",
    "Two vectors are orthogonal if their inner product is zero. A vector is normalised if its magnitude is one. Orthonormal vectors are both orthogonal and normalised. In quantum computing we use the orthonormal basis vectors |0⟩ and |1⟩ to represent the off and on states of our qubits."
   ]
  },
  {
   "cell_type": "code",
   "execution_count": 6,
   "metadata": {},
   "outputs": [
    {
     "name": "stdout",
     "output_type": "stream",
     "text": [
      "shape: (2, 1)\n",
      "[[1.+0.j]\n",
      " [0.+0.j]]\n",
      "shape: (2, 1)\n",
      "[[0.+0.j]\n",
      " [1.+0.j]]\n"
     ]
    }
   ],
   "source": [
    "# |0⟩\n",
    "zero = quantum.Zero\n",
    "quantum.info(zero)\n",
    "\n",
    "# |1⟩\n",
    "one = quantum.One\n",
    "quantum.info(one)"
   ]
  },
  {
   "cell_type": "markdown",
   "metadata": {},
   "source": [
    "The other most common 2D basis in quantum computing is made from the vectors |+⟩ and |-⟩"
   ]
  },
  {
   "cell_type": "code",
   "execution_count": 7,
   "metadata": {},
   "outputs": [
    {
     "name": "stdout",
     "output_type": "stream",
     "text": [
      "shape: (2, 1)\n",
      "[[0.70710678+0.j]\n",
      " [0.70710678+0.j]]\n",
      "shape: (2, 1)\n",
      "[[ 0.70710678+0.j]\n",
      " [-0.70710678+0.j]]\n"
     ]
    }
   ],
   "source": [
    "# |+⟩\n",
    "plus = quantum.Plus\n",
    "quantum.info(plus)\n",
    "\n",
    "# |-⟩\n",
    "minus = quantum.Minus\n",
    "quantum.info(minus)"
   ]
  },
  {
   "cell_type": "markdown",
   "metadata": {},
   "source": [
    "## The Conjugate Transpose\n",
    "The conjugate transpose, also known as the Hermitian transpose, means taking the transpose of the matrix and complex conjugate of each element. In quantum computing we denote the conjugate transpose with a dagger (†)."
   ]
  },
  {
   "cell_type": "code",
   "execution_count": 8,
   "metadata": {},
   "outputs": [
    {
     "name": "stdout",
     "output_type": "stream",
     "text": [
      "A\n",
      "shape: (2, 2)\n",
      "[[1.+3.j 0.+0.j]\n",
      " [1.+0.j 0.+0.j]]\n",
      "conjugate transpose of A\n",
      "shape: (2, 2)\n",
      "[[1.-3.j 1.-0.j]\n",
      " [0.-0.j 0.-0.j]]\n"
     ]
    }
   ],
   "source": [
    "A = np.array([[0,0],[1,0]], dtype=np.complex_)\n",
    "A[0,0] = complex(1, 3)\n",
    "quantum.info(A, \"A\")\n",
    "\n",
    "def dagger(a: np.array) -> np.array:\n",
    "    return a.transpose().conj()\n",
    "\n",
    "quantum.info(dagger(A), \"conjugate transpose of A\")"
   ]
  },
  {
   "cell_type": "markdown",
   "metadata": {},
   "source": [
    "## Unitary matrices\n",
    "A matrix is unitary if it’s conjugate transpose is its inverse."
   ]
  },
  {
   "cell_type": "code",
   "execution_count": 9,
   "metadata": {},
   "outputs": [
    {
     "data": {
      "text/plain": [
       "True"
      ]
     },
     "execution_count": 9,
     "metadata": {},
     "output_type": "execute_result"
    }
   ],
   "source": [
    "A = np.array([[1,0],[0,1]], dtype=np.complex_)\n",
    "\n",
    "def is_unitary(a: np.array) -> bool:\n",
    "    return np.allclose(np.linalg.inv(a), dagger(a))\n",
    "\n",
    "is_unitary(A)"
   ]
  },
  {
   "cell_type": "markdown",
   "metadata": {},
   "source": [
    "## Hermitian matrices\n",
    "A Hermitian matrix is a matrix that is equal to its conjugate transpose."
   ]
  },
  {
   "cell_type": "code",
   "execution_count": 10,
   "metadata": {},
   "outputs": [
    {
     "data": {
      "text/plain": [
       "True"
      ]
     },
     "execution_count": 10,
     "metadata": {},
     "output_type": "execute_result"
    }
   ],
   "source": [
    "def is_hermitian(a: np.array) -> bool:\n",
    "    return np.allclose(a, dagger(a))\n",
    "\n",
    "is_hermitian(A)"
   ]
  }
 ],
 "metadata": {
  "kernelspec": {
   "display_name": "Python 3",
   "language": "python",
   "name": "python3"
  },
  "language_info": {
   "codemirror_mode": {
    "name": "ipython",
    "version": 3
   },
   "file_extension": ".py",
   "mimetype": "text/x-python",
   "name": "python",
   "nbconvert_exporter": "python",
   "pygments_lexer": "ipython3",
   "version": "3.8.2"
  }
 },
 "nbformat": 4,
 "nbformat_minor": 4
}
