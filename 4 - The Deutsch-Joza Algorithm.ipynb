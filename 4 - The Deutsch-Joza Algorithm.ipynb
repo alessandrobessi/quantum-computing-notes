{
 "cells": [
  {
   "cell_type": "code",
   "execution_count": 1,
   "metadata": {},
   "outputs": [],
   "source": [
    "import numpy as np\n",
    "from quantum import quantum"
   ]
  },
  {
   "cell_type": "markdown",
   "metadata": {},
   "source": [
    "# The Deutsch-Joza Algorithm"
   ]
  },
  {
   "cell_type": "markdown",
   "metadata": {},
   "source": [
    "We are given a classical black box that takes n input qubits, and outputs to one output qubit.\n",
    "\n",
    "To make the circuit reversible we need to adapt our black box so it has the same number of input qubits as output qubits. In our case we give the circuit n input qubits plus one extra qubit for output, the circuit returns the original n input qubits in their initial state, plus the output qubit in its new state.\n",
    "\n",
    "We are guaranteed that the output of this black box is either constant or balanced:\n",
    "\n",
    "- constant: The state of the output bit is the same for all input states;\n",
    "- balanced: The output bit is ON for half of the input states and OFF for the other half.\n",
    "\n",
    "The problem is to find out whether the black box is constant or balanced."
   ]
  },
  {
   "cell_type": "markdown",
   "metadata": {},
   "source": [
    "The Deutsch-Joza algorithm is simple:\n",
    "\n",
    "1. Set the output qubit to |-⟩\n",
    "2. Apply H-gates to the n input qubits\n",
    "3. Run the black box\n",
    "4. Apply H-gates to the n input qubits\n",
    "5. Measure the n input qubits: if all n qubits are in the state |0⟩, the box is constant; otherwise, the box is balanced."
   ]
  },
  {
   "cell_type": "code",
   "execution_count": 2,
   "metadata": {},
   "outputs": [
    {
     "data": {
      "text/plain": [
       "True"
      ]
     },
     "execution_count": 2,
     "metadata": {},
     "output_type": "execute_result"
    }
   ],
   "source": [
    "# Set the output qubit to |-⟩ = HX|0⟩\n",
    "output = np.dot(quantum.H, np.dot(quantum.X, quantum.Zero))\n",
    "np.allclose(output, quantum.Minus)"
   ]
  },
  {
   "cell_type": "code",
   "execution_count": 3,
   "metadata": {},
   "outputs": [],
   "source": [
    "# Apply H-gates to the n input qubits\n",
    "num_qubits = 2\n",
    "qubits = quantum.Zero\n",
    "for _ in range(num_qubits):\n",
    "    qubits = np.kron(quantum.Zero, qubits)\n",
    "    \n",
    "Hs = quantum.H\n",
    "for _ in range(num_qubits):\n",
    "    Hs = np.kron(quantum.H, Hs)\n",
    "\n",
    "qubits = np.dot(Hs, qubits)"
   ]
  },
  {
   "cell_type": "code",
   "execution_count": 4,
   "metadata": {},
   "outputs": [],
   "source": [
    "# Run the black box\n",
    "def black_box(a: np.array, mode: str) -> np.array:\n",
    "    if mode == \"constant\":\n",
    "        c = np.ones(a.shape, dtype=np.complex_)\n",
    "        return quantum.normalize(c)\n",
    "    if mode == \"balanced\":\n",
    "        b = np.random.randint(2, size=a.shape)\n",
    "        return quantum.normalize(b)\n",
    "    raise ValueError(\"mode should be constant or balanced\")\n",
    "    \n",
    "qubits = black_box(qubits, \"constant\")"
   ]
  },
  {
   "cell_type": "code",
   "execution_count": 5,
   "metadata": {},
   "outputs": [],
   "source": [
    "# Apply H-gates to the n input qubits\n",
    "qubits = np.dot(Hs, qubits)"
   ]
  },
  {
   "cell_type": "code",
   "execution_count": 6,
   "metadata": {},
   "outputs": [
    {
     "name": "stdout",
     "output_type": "stream",
     "text": [
      "output\n",
      "shape: (8, 1)\n",
      "[[ 1.+0.j]\n",
      " [ 0.+0.j]\n",
      " [ 0.+0.j]\n",
      " [ 0.+0.j]\n",
      " [ 0.+0.j]\n",
      " [ 0.+0.j]\n",
      " [-0.+0.j]\n",
      " [ 0.+0.j]]\n"
     ]
    }
   ],
   "source": [
    "quantum.info(qubits, \"output\")"
   ]
  },
  {
   "cell_type": "markdown",
   "metadata": {},
   "source": [
    "When the oracle is constant, it has no effect (up to a global phase) on the input qubits, and the quantum states before and after querying the oracle are the same. Since the H-gate is its own inverse, in Step 4 we reverse Step 2 to obtain the initial quantum state of  |00...0⟩  in the first register.\n",
    "\n",
    "After step 2, our input register is an equal superposition of all the states in the computational basis. When the oracle is balanced, phase kickback adds a negative phase to exactly half these states."
   ]
  },
  {
   "cell_type": "code",
   "execution_count": null,
   "metadata": {},
   "outputs": [],
   "source": []
  }
 ],
 "metadata": {
  "kernelspec": {
   "display_name": "Python 3",
   "language": "python",
   "name": "python3"
  },
  "language_info": {
   "codemirror_mode": {
    "name": "ipython",
    "version": 3
   },
   "file_extension": ".py",
   "mimetype": "text/x-python",
   "name": "python",
   "nbconvert_exporter": "python",
   "pygments_lexer": "ipython3",
   "version": "3.8.2"
  }
 },
 "nbformat": 4,
 "nbformat_minor": 4
}
