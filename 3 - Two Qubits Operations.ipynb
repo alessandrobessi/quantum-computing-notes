{
 "cells": [
  {
   "cell_type": "code",
   "execution_count": 1,
   "metadata": {},
   "outputs": [],
   "source": [
    "import math\n",
    "import numpy as np\n",
    "from quantum import quantum"
   ]
  },
  {
   "cell_type": "markdown",
   "metadata": {},
   "source": [
    "# Two Qubits Operations"
   ]
  },
  {
   "cell_type": "markdown",
   "metadata": {},
   "source": [
    "## The CNOT Gate\n",
    "\n",
    "The CNOT gate (also known as Controlled-Not Controlled-X, CX, CNOT) takes two qubits, a control and a target. The CNOT gate performs an X-gate on the target qubit if the control qubit is |1⟩."
   ]
  },
  {
   "cell_type": "markdown",
   "metadata": {},
   "source": [
    "To represent the CNOT gate as a matrix, we must use the Kronecker product to describe the combined state of our two qubits."
   ]
  },
  {
   "cell_type": "code",
   "execution_count": 2,
   "metadata": {},
   "outputs": [
    {
     "name": "stdout",
     "output_type": "stream",
     "text": [
      "|q⟩ = a|00⟩ + b|01⟩ + c|10⟩ + d|11⟩\n",
      "shape: (4, 1)\n",
      "[[0.5  +0.j]\n",
      " [0.5  +0.j]\n",
      " [0.   +0.j]\n",
      " [0.707+0.j]]\n"
     ]
    }
   ],
   "source": [
    "# |q⟩ = a|00⟩ + b|01⟩ + c|10⟩ + d|11⟩\n",
    "# where;\n",
    "# a = 1/sqrt(4)\n",
    "# b = 1/sqrt(4)\n",
    "# c = 0\n",
    "# d = 1/sqrt(2)\n",
    "\n",
    "zz = np.kron(quantum.Zero, quantum.Zero)\n",
    "zo = np.kron(quantum.Zero, quantum.One)\n",
    "oz = np.kron(quantum.One, quantum.Zero)\n",
    "oo = np.kron(quantum.One, quantum.One)\n",
    "\n",
    "a = 1/math.sqrt(4)\n",
    "b = 1/math.sqrt(4)\n",
    "c = 0\n",
    "d = 1/math.sqrt(2)\n",
    "\n",
    "q = a * zz + b * zo + c * oz + d * oo\n",
    "quantum.info(q, \"|q⟩ = a|00⟩ + b|01⟩ + c|10⟩ + d|11⟩\")"
   ]
  },
  {
   "cell_type": "code",
   "execution_count": 3,
   "metadata": {},
   "outputs": [
    {
     "name": "stdout",
     "output_type": "stream",
     "text": [
      "CNOT gate\n",
      "shape: (4, 4)\n",
      "[[1.+0.j 0.+0.j 0.+0.j 0.+0.j]\n",
      " [0.+0.j 1.+0.j 0.+0.j 0.+0.j]\n",
      " [0.+0.j 0.+0.j 0.+0.j 1.+0.j]\n",
      " [0.+0.j 0.+0.j 1.+0.j 0.+0.j]]\n"
     ]
    }
   ],
   "source": [
    "quantum.info(quantum.CX, \"CNOT gate\")"
   ]
  },
  {
   "cell_type": "code",
   "execution_count": 4,
   "metadata": {},
   "outputs": [
    {
     "name": "stdout",
     "output_type": "stream",
     "text": [
      "CNOT|q⟩\n",
      "shape: (4, 1)\n",
      "[[0.5  +0.j]\n",
      " [0.5  +0.j]\n",
      " [0.707+0.j]\n",
      " [0.   +0.j]]\n"
     ]
    }
   ],
   "source": [
    "quantum.info(np.dot(quantum.CX, q), \"CNOT|q⟩\")"
   ]
  },
  {
   "cell_type": "markdown",
   "metadata": {},
   "source": [
    "## Entanglement\n",
    "We can see that the CNOT gate switches the amplitudes of the |10⟩ and |11⟩ states. It is clear to see how the CNOT gate acts on classical states, but what if we pass it qubits in superposition? If we first apply a H-gate to the control qubit we can create an interesting state. The control qubit enters the CNOT gate in the state |+⟩ and the target in the state |0⟩."
   ]
  },
  {
   "cell_type": "code",
   "execution_count": 5,
   "metadata": {},
   "outputs": [
    {
     "name": "stdout",
     "output_type": "stream",
     "text": [
      "CNOT|+0⟩\n",
      "shape: (4, 1)\n",
      "[[0.707+0.j]\n",
      " [0.   +0.j]\n",
      " [0.   +0.j]\n",
      " [0.707+0.j]]\n"
     ]
    }
   ],
   "source": [
    "# CNOT|+0⟩\n",
    "# |+⟩ = H|0⟩\n",
    "pz = np.kron(quantum.Plus, quantum.Zero)\n",
    "quantum.info(np.dot(quantum.CX, pz), \"CNOT|+0⟩\")\n",
    "# CNOT|+0⟩ = 1/sqrt(2)( |00⟩ + |11⟩ ) \n",
    "# entanglement bitch!"
   ]
  },
  {
   "cell_type": "markdown",
   "metadata": {},
   "source": [
    "We see that the states |01⟩ and |10⟩ both have zero amplitudes, this means we have no probability of measuring them. When we measure these qubits we will always measure either both |0⟩ or both |1⟩. We say these qubits have become entangled; we can no longer write their states as separate 2D vectors and measuring one qubit destroys the superposition of the other!"
   ]
  },
  {
   "cell_type": "code",
   "execution_count": null,
   "metadata": {},
   "outputs": [],
   "source": []
  }
 ],
 "metadata": {
  "kernelspec": {
   "display_name": "Python 3",
   "language": "python",
   "name": "python3"
  },
  "language_info": {
   "codemirror_mode": {
    "name": "ipython",
    "version": 3
   },
   "file_extension": ".py",
   "mimetype": "text/x-python",
   "name": "python",
   "nbconvert_exporter": "python",
   "pygments_lexer": "ipython3",
   "version": "3.8.2"
  }
 },
 "nbformat": 4,
 "nbformat_minor": 4
}
